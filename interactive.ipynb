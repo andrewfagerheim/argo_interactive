{
 "cells": [
  {
   "cell_type": "markdown",
   "id": "23ba665f-8062-425a-9521-e72c9b9762ee",
   "metadata": {},
   "source": [
    "# Testing Interactive Notebook"
   ]
  },
  {
   "cell_type": "markdown",
   "id": "77f99baa-534f-4c3b-b020-e86d242d3b66",
   "metadata": {},
   "source": [
    "I tried using ipywidgets to create an interactive plot in gyre and the package loaded, the code looked good, and everything ran---however the resulting plot wasn't interactive. I tried looking around a bit, but couldn't figure out what's going on. So I'm trying again on a new machine to see if that makes a difference."
   ]
  },
  {
   "cell_type": "code",
   "execution_count": 19,
   "id": "a862a8d3-820f-4d08-8126-0711925a53fe",
   "metadata": {},
   "outputs": [],
   "source": [
    "import xarray as xr\n",
    "import matplotlib.pyplot as plt\n",
    "import matplotlib.colors as colors\n",
    "import pandas as pd\n",
    "import numpy as np\n",
    "import cartopy.crs as ccrs\n",
    "import cmocean.cm as cmo\n",
    "\n",
    "import ipywidgets as widgets\n",
    "from IPython.display import display\n",
    "from ipywidgets import interactive, IntSlider, Dropdown"
   ]
  },
  {
   "cell_type": "code",
   "execution_count": 20,
   "id": "a28081db-bfa0-4ce4-aeb0-813241718261",
   "metadata": {},
   "outputs": [],
   "source": [
    "COUNT = xr.open_dataarray('ds_binned/COUNT.nc')\n",
    "\n",
    "count_min = 50\n",
    "mask = COUNT < count_min\n",
    "masked_count = COUNT.where(mask)"
   ]
  },
  {
   "cell_type": "code",
   "execution_count": 21,
   "id": "a57eee26-78cd-4e61-92fa-1ef6bd26f499",
   "metadata": {},
   "outputs": [],
   "source": [
    "SIG0 = xr.open_dataarray('ds_binned/SIG.nc')\n",
    "levels = [26,27,27.4,27.7,27.8]"
   ]
  },
  {
   "cell_type": "code",
   "execution_count": 22,
   "id": "a42f316d-2a05-4d5e-a91b-b830f124dea9",
   "metadata": {},
   "outputs": [],
   "source": [
    "ct_start = 0\n",
    "ct_end   = 20\n",
    "ct_norm  = colors.Normalize(vmin=ct_start, vmax=ct_end)\n",
    "ct_cmap  = cmo.thermal"
   ]
  },
  {
   "cell_type": "code",
   "execution_count": 23,
   "id": "d772d05b-9d32-4901-b7bf-5a5542720208",
   "metadata": {},
   "outputs": [],
   "source": [
    "sa_start = 34.5\n",
    "sa_end   = 36.5\n",
    "sa_norm  = colors.Normalize(vmin=sa_start, vmax=sa_end)\n",
    "sa_cmap  = cmo.haline"
   ]
  },
  {
   "cell_type": "code",
   "execution_count": 24,
   "id": "76b28f3a-e3f3-4d98-b02e-4575389ead36",
   "metadata": {},
   "outputs": [],
   "source": [
    "sp_start = -1\n",
    "sp_end   = 5\n",
    "sp_norm  = colors.Normalize(vmin=sp_start, vmax=sp_end)\n",
    "sp_cmap  = cmo.deep"
   ]
  },
  {
   "cell_type": "code",
   "execution_count": 25,
   "id": "b8f0a6c1-8028-47d3-b385-77ca43325290",
   "metadata": {},
   "outputs": [],
   "source": [
    "ctvar_start = 10**-12\n",
    "ctvar_end   = 10**-8\n",
    "ctvar_norm  = colors.LogNorm(vmin=ctvar_start, vmax=ctvar_end)\n",
    "var_cmap  = cmo.matter_r"
   ]
  },
  {
   "cell_type": "code",
   "execution_count": 26,
   "id": "7201c62b-7bb9-4c03-b3a4-87b492769343",
   "metadata": {},
   "outputs": [],
   "source": [
    "savar_start = 10**-14\n",
    "savar_end   = 10**-9\n",
    "savar_norm  = colors.LogNorm(vmin=savar_start, vmax=savar_end)"
   ]
  },
  {
   "cell_type": "code",
   "execution_count": 27,
   "id": "c1197591-d82c-48c7-9a23-9356e2ff699a",
   "metadata": {},
   "outputs": [],
   "source": [
    "spvar_start = 10**-13\n",
    "spvar_end   = 10**-8\n",
    "spvar_norm  = colors.LogNorm(vmin=spvar_start, vmax=spvar_end)"
   ]
  },
  {
   "cell_type": "code",
   "execution_count": 28,
   "id": "95e9e856-151e-4aea-a282-bd904c291d9f",
   "metadata": {},
   "outputs": [],
   "source": [
    "rat_cmap = cmo.dense"
   ]
  },
  {
   "cell_type": "code",
   "execution_count": 29,
   "id": "1e84e426-f1b9-4570-9763-b44b1488756a",
   "metadata": {},
   "outputs": [],
   "source": [
    "ds  =  COUNT"
   ]
  },
  {
   "cell_type": "code",
   "execution_count": 30,
   "id": "421cf96e-4769-4d86-aff5-95b788dc64c4",
   "metadata": {},
   "outputs": [],
   "source": [
    "plot_dict = {\n",
    "    'CT': {'loc': 'ds_binned/CT.nc', 'norm': ct_norm, 'cmap': ct_cmap, 'title': 'Conservative Temperature'},\n",
    "    'SA': {'loc': 'ds_binned/SA.nc', 'norm': sa_norm, 'cmap': sa_cmap, 'title': 'Absolute Salinity'},\n",
    "    'SP': {'loc': 'ds_binned/SP.nc', 'norm': sp_norm, 'cmap': sp_cmap, 'title': 'Spice'},\n",
    "    'CT_2': {'loc': 'ds_binned/CT_2.nc', 'norm': ctvar_norm, 'cmap': var_cmap, 'title': 'Mesoscale Variance of Temperature'},\n",
    "    'CT_3': {'loc': 'ds_binned/CT_3.nc', 'norm': ctvar_norm, 'cmap': var_cmap, 'title': 'Microscale Variance of Temperature'},\n",
    "    'SA_2': {'loc': 'ds_binned/SA_2.nc', 'norm': savar_norm, 'cmap': var_cmap, 'title': 'Mesoscale Variance of Salinity'},\n",
    "    'SA_3': {'loc': 'ds_binned/SA_3.nc', 'norm': savar_norm, 'cmap': var_cmap, 'title': 'Microscale Variance of Salinity'},\n",
    "    'SP_2': {'loc': 'ds_binned/SP_2.nc', 'norm': spvar_norm, 'cmap': var_cmap, 'title': 'Mesoscale Variance of Spice'},\n",
    "    'SP_3': {'loc': 'ds_binned/SP_3.nc', 'norm': spvar_norm, 'cmap': var_cmap, 'title': 'Microscale Variance of Spice'},\n",
    "    'CT_2RAT': {'loc': 'ds_binned/CT_2RAT.nc', 'norm': None, 'cmap': rat_cmap, 'title': 'Ratio of Mesoscale Temperature Variance'},\n",
    "    'SA_2RAT': {'loc': 'ds_binned/SA_2RAT.nc', 'norm': None, 'cmap': rat_cmap, 'title': 'Ratio of Mesoscale Salinity Variance'},\n",
    "    'SP_2RAT': {'loc': 'ds_binned/SP_2RAT.nc', 'norm': None, 'cmap': rat_cmap, 'title': 'Ratio of Mesoscale Spice Variance'}}"
   ]
  },
  {
   "cell_type": "markdown",
   "id": "87dacc63-a0b1-4458-b115-7d06a7c39d92",
   "metadata": {},
   "source": [
    "NEED TO GET RID OF lon_center, THIS IS THE OLD ATALNTIC GRIDDING. INSTEAD NEED TO MAKE lon_center THE DIMENSION VALUE INSTEAD"
   ]
  },
  {
   "cell_type": "code",
   "execution_count": 31,
   "id": "6511db4f-6bd0-4134-a20f-aae8c9906e37",
   "metadata": {},
   "outputs": [],
   "source": [
    "#COUNT = xr.open_dataarray('ds_binned/COUNT.nc')"
   ]
  },
  {
   "cell_type": "code",
   "execution_count": 32,
   "id": "c0a7d69c-8331-45b3-86ce-c4f7b81850bb",
   "metadata": {},
   "outputs": [],
   "source": [
    "#COUNT = COUNT.swap_dims({'lat_center':'lat_center','lon_center':'lon_center'})"
   ]
  },
  {
   "cell_type": "code",
   "execution_count": 33,
   "id": "2d77477c-e776-4356-809f-67a6cc45edb4",
   "metadata": {},
   "outputs": [],
   "source": [
    "#COUNT"
   ]
  },
  {
   "cell_type": "code",
   "execution_count": 34,
   "id": "6bab7664-38ee-44cd-b030-84b2eb28f1fc",
   "metadata": {},
   "outputs": [],
   "source": [
    "#COUNT.to_netcdf('ds_binned/COUNT.nc')"
   ]
  },
  {
   "cell_type": "code",
   "execution_count": 35,
   "id": "6bfdd78f-cf5c-418f-a7ac-c2dd51ddaa0b",
   "metadata": {},
   "outputs": [],
   "source": [
    "# Plotting function\n",
    "def plot_full(dataset_name, depth, lat, lon):\n",
    "    # Load the selected dataset\n",
    "    dataset_path = plot_dict[dataset_name]['loc']\n",
    "    ds = xr.open_dataarray(dataset_path)\n",
    "\n",
    "    plt.figure(figsize=(30, 10))\n",
    "    gs = plt.GridSpec(2, 2, width_ratios=[2, 1.5])\n",
    "    \n",
    "    ax1 = plt.subplot(gs[:, 0], projection=ccrs.PlateCarree())\n",
    "    ax1.coastlines()\n",
    "    ax1.gridlines(xlocs=np.arange(-180, 180, 10), ylocs=np.arange(-90, 90, 10), draw_labels=True)\n",
    "    ax1.axvline(ds.lon_center.isel(lon_center=lon).item(), color='k')\n",
    "    ax1.axhline(ds.lat_center.isel(lat_center=lat).item(), color='k')\n",
    "    ds.sel(PRES_INTERPOLATED=depth, method='nearest').plot(x='lon_center', y='lat_center', ax=ax1, norm=plot_dict[dataset_name]['norm'], cmap=plot_dict[dataset_name]['cmap'])\n",
    "    masked_count.sel(PRES_INTERPOLATED=depth).plot.contourf(x='lon_center', y='lat_center', levels=[0, 50], hatches=['...'], colors='none', ax=ax1, add_colorbar=False)\n",
    "    contour = SIG0.sel(PRES_INTERPOLATED=depth).plot.contour(x='lon_center', y='lat_center', levels=levels, colors='white', linewidths=1)\n",
    "    plt.clabel(contour, fmt='%1.1f', colors='white', fontsize=10)\n",
    "    ax1.set_title(f'{plot_dict[dataset_name][\"title\"]} at {depth}m')\n",
    "    \n",
    "    ax2 = plt.subplot(gs[0, 1])\n",
    "    ds.isel(lon_center=lon).plot(x='lat_center', y='PRES_INTERPOLATED', ax=ax2, norm=plot_dict[dataset_name]['norm'], cmap=plot_dict[dataset_name]['cmap'])\n",
    "    masked_count.isel(lon_center=lon).plot.contourf(x='lat_center', y='PRES_INTERPOLATED', levels=[0, 50], hatches=['...'], colors='none', ax=ax2, add_colorbar=False)\n",
    "    contour = SIG0.isel(lon_center=lon).plot.contour(x='lat_center', y='PRES_INTERPOLATED', levels=levels, colors='white', linewidths=1)\n",
    "    plt.clabel(contour, fmt='%1.1f', colors='white', fontsize=10)\n",
    "    ax2.invert_yaxis()\n",
    "    ax2.axhline(depth, color='k')\n",
    "    ax2.set_title(f'{plot_dict[dataset_name][\"title\"]} at {ds.lon_center.isel(lon_center=lon).item()} lon')\n",
    "    \n",
    "    ax4 = plt.subplot(gs[1, 1])\n",
    "    ds.isel(lat_center=lat).plot(x='lon_center', y='PRES_INTERPOLATED', ax=ax4, norm=plot_dict[dataset_name]['norm'], cmap=plot_dict[dataset_name]['cmap'])\n",
    "    masked_count.isel(lat_center=lat).plot.contourf(x='lon_center', y='PRES_INTERPOLATED', levels=[0, 50], hatches=['...'], colors='none', ax=ax4, add_colorbar=False)\n",
    "    contour = SIG0.isel(lat_center=lat).plot.contour(x='lon_center', y='PRES_INTERPOLATED', levels=levels, colors='white', linewidths=1)\n",
    "    plt.clabel(contour, fmt='%1.1f', colors='white', fontsize=10)\n",
    "    ax4.invert_yaxis()\n",
    "    ax4.axhline(depth, color='k')\n",
    "    ax4.set_title(f'{plot_dict[dataset_name][\"title\"]} at {ds.lat_center.isel(lat_center=lat).item()} lat')\n",
    "    \n",
    "    plt.subplots_adjust(hspace=0.55)\n",
    "    plt.show()\n",
    "\n",
    "# Create an IntSlider for depth\n",
    "depth_slider = IntSlider(min=0, max=ds.PRES_INTERPOLATED.max(), step=100, value=0, description='Depth (m):')\n",
    "lat_slider = IntSlider(min=0, max=len(ds.lat_center)-1, step=1, value=24, description='Lat interval:')\n",
    "lon_slider = IntSlider(min=0, max=len(ds.lon_center)-1, step=1, value=18, description='Lon interval:')\n",
    "\n",
    "# Create a Dropdown for selecting the dataset\n",
    "dataset_dropdown = Dropdown(\n",
    "    options=list(plot_dict.keys()),\n",
    "    value='CT',\n",
    "    description='Dataset:'\n",
    ")\n",
    "\n",
    "# Create interactive plot\n",
    "interactive_plot_full = interactive(plot_full, dataset_name=dataset_dropdown, depth=depth_slider, lat=lat_slider, lon=lon_slider)"
   ]
  },
  {
   "cell_type": "code",
   "execution_count": 36,
   "id": "bd551c7d-5886-4751-8c4c-59d2f73a4340",
   "metadata": {},
   "outputs": [
    {
     "data": {
      "application/vnd.jupyter.widget-view+json": {
       "model_id": "d1b1402dc5dc4ceb8c8476e9a7c71b71",
       "version_major": 2,
       "version_minor": 0
      },
      "text/plain": [
       "interactive(children=(Dropdown(description='Dataset:', options=('CT', 'SA', 'SP', 'CT_2', 'CT_3', 'SA_2', 'SA_…"
      ]
     },
     "metadata": {},
     "output_type": "display_data"
    }
   ],
   "source": [
    "display(interactive_plot_full)"
   ]
  },
  {
   "cell_type": "code",
   "execution_count": null,
   "id": "a36cf7ca-9dec-4a32-aff9-7e34e9285b53",
   "metadata": {},
   "outputs": [],
   "source": []
  },
  {
   "cell_type": "code",
   "execution_count": null,
   "id": "9c29439a-8829-437c-8937-f0ec5743b8f0",
   "metadata": {},
   "outputs": [],
   "source": []
  },
  {
   "cell_type": "code",
   "execution_count": null,
   "id": "a543eb99-f795-4c0f-9249-45333b08aa2e",
   "metadata": {},
   "outputs": [],
   "source": []
  }
 ],
 "metadata": {
  "kernelspec": {
   "display_name": "Python 3 (ipykernel)",
   "language": "python",
   "name": "python3"
  },
  "language_info": {
   "codemirror_mode": {
    "name": "ipython",
    "version": 3
   },
   "file_extension": ".py",
   "mimetype": "text/x-python",
   "name": "python",
   "nbconvert_exporter": "python",
   "pygments_lexer": "ipython3",
   "version": "3.12.7"
  }
 },
 "nbformat": 4,
 "nbformat_minor": 5
}
